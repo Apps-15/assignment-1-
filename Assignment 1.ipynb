{
 "cells": [
  {
   "cell_type": "code",
   "execution_count": 1,
   "id": "f00cacdd",
   "metadata": {},
   "outputs": [
    {
     "name": "stdout",
     "output_type": "stream",
     "text": [
      "\n",
      "Please Enter the Range : 10\n",
      "1\n",
      "2\n",
      "3\n",
      "4\n",
      "5\n",
      "6\n",
      "7\n",
      "8\n",
      "9\n",
      "Even count numbers in series is 4\n",
      "Odd count numbers in series is 5\n"
     ]
    }
   ],
   "source": [
    "# even odd count in series\n",
    "#l=[1,2,3,4,5,6,7,7,8,9,11,14,25,36,52,20,3]\n",
    "Number = int(input(\"\\nPlease Enter the Range : \"))\n",
    "even = 0\n",
    "odd = 0\n",
    "for i in range(1,Number):\n",
    "#for i in l:\n",
    "    print(i)\n",
    "    if i%2==0:\n",
    "        even+=1 \n",
    "    elif i%2!=0:\n",
    "        odd+=1\n",
    "print('Even count numbers in series is',even)\n",
    "print('Odd count numbers in series is',odd)"
   ]
  },
  {
   "cell_type": "code",
   "execution_count": 4,
   "id": "214563ac",
   "metadata": {},
   "outputs": [
    {
     "name": "stdout",
     "output_type": "stream",
     "text": [
      "Edyoda\n",
      "adoydE\n"
     ]
    }
   ],
   "source": [
    "four = input()\n",
    "name1 = \"\"\n",
    "for i in four:\n",
    "    name1 = i + name1\n",
    "print(name1)"
   ]
  },
  {
   "cell_type": "code",
   "execution_count": 1,
   "id": "951b5909",
   "metadata": {},
   "outputs": [
    {
     "name": "stdout",
     "output_type": "stream",
     "text": [
      "0 1 1 2 3 5 8 13 21 34 "
     ]
    }
   ],
   "source": [
    "x,y = 0,1\n",
    "print (x,end= \" \")\n",
    "while y<50:\n",
    "    print(y,end = \" \")\n",
    "    x,y = y, x+y"
   ]
  },
  {
   "cell_type": "code",
   "execution_count": null,
   "id": "44e26fe7",
   "metadata": {},
   "outputs": [],
   "source": []
  }
 ],
 "metadata": {
  "kernelspec": {
   "display_name": "Python 3 (ipykernel)",
   "language": "python",
   "name": "python3"
  },
  "language_info": {
   "codemirror_mode": {
    "name": "ipython",
    "version": 3
   },
   "file_extension": ".py",
   "mimetype": "text/x-python",
   "name": "python",
   "nbconvert_exporter": "python",
   "pygments_lexer": "ipython3",
   "version": "3.10.1"
  }
 },
 "nbformat": 4,
 "nbformat_minor": 5
}
